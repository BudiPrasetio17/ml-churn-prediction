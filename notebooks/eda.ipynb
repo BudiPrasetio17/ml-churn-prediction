{
 "cells": [
  {
   "cell_type": "code",
   "execution_count": null,
   "metadata": {
    "vscode": {
     "languageId": "plaintext"
    }
   },
   "outputs": [],
   "source": [
    "import pandas as pd\n",
    "import matplotlib.pyplot as plt\n",
    "import seaborn as sns\n",
    "\n",
    "# Load data\n",
    "df = pd.read_csv(\"../data/churn.csv\")\n",
    "\n",
    "# Lihat beberapa baris awal\n",
    "print(df.head())\n",
    "\n",
    "# Info data\n",
    "print(df.info())\n",
    "\n",
    "# Cek missing value\n",
    "print(df.isnull().sum())\n",
    "\n",
    "# Cek distribusi target\n",
    "print(df[\"Churn\"].value_counts(normalize=True))\n",
    "\n",
    "# Visualisasi target\n",
    "sns.countplot(x=\"Churn\", data=df)\n",
    "plt.title(\"Distribusi Churn\")\n",
    "plt.show()\n"
   ]
  }
 ],
 "metadata": {
  "language_info": {
   "name": "python"
  }
 },
 "nbformat": 4,
 "nbformat_minor": 2
}
